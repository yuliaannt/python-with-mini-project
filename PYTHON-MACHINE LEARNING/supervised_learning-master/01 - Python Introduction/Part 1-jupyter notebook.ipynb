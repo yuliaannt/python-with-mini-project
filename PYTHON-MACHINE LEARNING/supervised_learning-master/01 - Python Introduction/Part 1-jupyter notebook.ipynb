{
 "cells": [
  {
   "cell_type": "markdown",
   "id": "232aa651",
   "metadata": {},
   "source": [
    "# Coba Jupyter"
   ]
  },
  {
   "cell_type": "markdown",
   "id": "fff1024b",
   "metadata": {},
   "source": [
    "## ini adalah heading 2"
   ]
  },
  {
   "cell_type": "markdown",
   "id": "c4228840",
   "metadata": {},
   "source": [
    "### ini adalah heading 3"
   ]
  },
  {
   "cell_type": "code",
   "execution_count": 1,
   "id": "db884fb1",
   "metadata": {},
   "outputs": [
    {
     "data": {
      "text/plain": [
       "2"
      ]
     },
     "execution_count": 1,
     "metadata": {},
     "output_type": "execute_result"
    }
   ],
   "source": [
    "1+1"
   ]
  },
  {
   "cell_type": "code",
   "execution_count": null,
   "id": "d4631f08",
   "metadata": {},
   "outputs": [],
   "source": []
  }
 ],
 "metadata": {
  "kernelspec": {
   "display_name": "Python 3 (ipykernel)",
   "language": "python",
   "name": "python3"
  },
  "language_info": {
   "codemirror_mode": {
    "name": "ipython",
    "version": 3
   },
   "file_extension": ".py",
   "mimetype": "text/x-python",
   "name": "python",
   "nbconvert_exporter": "python",
   "pygments_lexer": "ipython3",
   "version": "3.9.16"
  }
 },
 "nbformat": 4,
 "nbformat_minor": 5
}
