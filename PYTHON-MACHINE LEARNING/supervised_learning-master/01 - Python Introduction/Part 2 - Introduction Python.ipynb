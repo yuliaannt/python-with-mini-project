{
 "cells": [
  {
   "cell_type": "markdown",
   "id": "cc8a9dd4",
   "metadata": {},
   "source": [
    "# Print"
   ]
  },
  {
   "cell_type": "code",
   "execution_count": 1,
   "id": "59fe47e4",
   "metadata": {},
   "outputs": [
    {
     "name": "stdout",
     "output_type": "stream",
     "text": [
      "Hallo nama saya yulia\n"
     ]
    }
   ],
   "source": [
    "print('Hallo nama saya yulia')"
   ]
  },
  {
   "cell_type": "code",
   "execution_count": 3,
   "id": "0ad58a61",
   "metadata": {},
   "outputs": [
    {
     "name": "stdout",
     "output_type": "stream",
     "text": [
      "Hallo nama saya yulia\n"
     ]
    }
   ],
   "source": [
    "print(\"Hallo nama saya yulia\") #string"
   ]
  },
  {
   "cell_type": "markdown",
   "id": "7368d61b",
   "metadata": {},
   "source": [
    "# Variable"
   ]
  },
  {
   "cell_type": "code",
   "execution_count": 4,
   "id": "b3f78226",
   "metadata": {},
   "outputs": [],
   "source": [
    "a = 1"
   ]
  },
  {
   "cell_type": "code",
   "execution_count": 5,
   "id": "e82ffbd0",
   "metadata": {},
   "outputs": [
    {
     "data": {
      "text/plain": [
       "1"
      ]
     },
     "execution_count": 5,
     "metadata": {},
     "output_type": "execute_result"
    }
   ],
   "source": [
    "a"
   ]
  },
  {
   "cell_type": "code",
   "execution_count": 6,
   "id": "8c5b69bf",
   "metadata": {},
   "outputs": [],
   "source": [
    "a,b =2, 3"
   ]
  },
  {
   "cell_type": "code",
   "execution_count": 7,
   "id": "854013be",
   "metadata": {},
   "outputs": [
    {
     "data": {
      "text/plain": [
       "3"
      ]
     },
     "execution_count": 7,
     "metadata": {},
     "output_type": "execute_result"
    }
   ],
   "source": [
    "b"
   ]
  },
  {
   "cell_type": "code",
   "execution_count": 8,
   "id": "0abb6243",
   "metadata": {},
   "outputs": [
    {
     "data": {
      "text/plain": [
       "2"
      ]
     },
     "execution_count": 8,
     "metadata": {},
     "output_type": "execute_result"
    }
   ],
   "source": [
    "a"
   ]
  },
  {
   "cell_type": "code",
   "execution_count": 9,
   "id": "09cde834",
   "metadata": {},
   "outputs": [
    {
     "data": {
      "text/plain": [
       "(2, 3)"
      ]
     },
     "execution_count": 9,
     "metadata": {},
     "output_type": "execute_result"
    }
   ],
   "source": [
    "a,b"
   ]
  },
  {
   "cell_type": "markdown",
   "id": "6161bdab",
   "metadata": {},
   "source": [
    "# List"
   ]
  },
  {
   "cell_type": "code",
   "execution_count": 10,
   "id": "0f2abc1a",
   "metadata": {},
   "outputs": [],
   "source": [
    "a = [1,2,3, \"empat\", \"Lima\", 6]"
   ]
  },
  {
   "cell_type": "code",
   "execution_count": 11,
   "id": "ead84d22",
   "metadata": {},
   "outputs": [
    {
     "data": {
      "text/plain": [
       "[1, 2, 3, 'empat', 'Lima', 6]"
      ]
     },
     "execution_count": 11,
     "metadata": {},
     "output_type": "execute_result"
    }
   ],
   "source": [
    "a"
   ]
  },
  {
   "cell_type": "code",
   "execution_count": 13,
   "id": "8d4a584c",
   "metadata": {},
   "outputs": [
    {
     "data": {
      "text/plain": [
       "1"
      ]
     },
     "execution_count": 13,
     "metadata": {},
     "output_type": "execute_result"
    }
   ],
   "source": [
    "a[0]"
   ]
  },
  {
   "cell_type": "code",
   "execution_count": 14,
   "id": "4ac3e2a9",
   "metadata": {},
   "outputs": [
    {
     "data": {
      "text/plain": [
       "2"
      ]
     },
     "execution_count": 14,
     "metadata": {},
     "output_type": "execute_result"
    }
   ],
   "source": [
    "a[1]"
   ]
  },
  {
   "cell_type": "code",
   "execution_count": 15,
   "id": "c7bb5bbc",
   "metadata": {},
   "outputs": [
    {
     "data": {
      "text/plain": [
       "6"
      ]
     },
     "execution_count": 15,
     "metadata": {},
     "output_type": "execute_result"
    }
   ],
   "source": [
    "a[-1]"
   ]
  },
  {
   "cell_type": "code",
   "execution_count": 16,
   "id": "f88d3188",
   "metadata": {},
   "outputs": [
    {
     "data": {
      "text/plain": [
       "'Lima'"
      ]
     },
     "execution_count": 16,
     "metadata": {},
     "output_type": "execute_result"
    }
   ],
   "source": [
    "a[-2]"
   ]
  },
  {
   "cell_type": "code",
   "execution_count": 17,
   "id": "9e4e84ba",
   "metadata": {},
   "outputs": [],
   "source": [
    "a.append(7)"
   ]
  },
  {
   "cell_type": "code",
   "execution_count": 18,
   "id": "4ea1a9ae",
   "metadata": {},
   "outputs": [
    {
     "data": {
      "text/plain": [
       "[1, 2, 3, 'empat', 'Lima', 6, 7]"
      ]
     },
     "execution_count": 18,
     "metadata": {},
     "output_type": "execute_result"
    }
   ],
   "source": [
    "a"
   ]
  },
  {
   "cell_type": "code",
   "execution_count": 19,
   "id": "fd9aeb9d",
   "metadata": {},
   "outputs": [
    {
     "data": {
      "text/plain": [
       "7"
      ]
     },
     "execution_count": 19,
     "metadata": {},
     "output_type": "execute_result"
    }
   ],
   "source": [
    "len(a)"
   ]
  },
  {
   "cell_type": "code",
   "execution_count": 20,
   "id": "308de7d2",
   "metadata": {},
   "outputs": [],
   "source": [
    "a = []"
   ]
  },
  {
   "cell_type": "code",
   "execution_count": 21,
   "id": "009dab4f",
   "metadata": {},
   "outputs": [],
   "source": [
    "a.append(1)"
   ]
  },
  {
   "cell_type": "code",
   "execution_count": 22,
   "id": "6b3564ae",
   "metadata": {},
   "outputs": [
    {
     "data": {
      "text/plain": [
       "[1]"
      ]
     },
     "execution_count": 22,
     "metadata": {},
     "output_type": "execute_result"
    }
   ],
   "source": [
    "a"
   ]
  },
  {
   "cell_type": "code",
   "execution_count": 23,
   "id": "6ce23a4c",
   "metadata": {},
   "outputs": [],
   "source": [
    "a.append(2)"
   ]
  },
  {
   "cell_type": "code",
   "execution_count": 24,
   "id": "c26741c0",
   "metadata": {},
   "outputs": [
    {
     "data": {
      "text/plain": [
       "[1, 2]"
      ]
     },
     "execution_count": 24,
     "metadata": {},
     "output_type": "execute_result"
    }
   ],
   "source": [
    "a"
   ]
  },
  {
   "cell_type": "markdown",
   "id": "ec0fe3dd",
   "metadata": {},
   "source": [
    "# Slicing"
   ]
  },
  {
   "cell_type": "markdown",
   "id": "667325dc",
   "metadata": {},
   "source": [
    "'inclusive' : 'exclusive' : 'step'"
   ]
  },
  {
   "cell_type": "code",
   "execution_count": 26,
   "id": "38547f95",
   "metadata": {},
   "outputs": [],
   "source": [
    "a = [0,1,2,3,4,5,6]"
   ]
  },
  {
   "cell_type": "code",
   "execution_count": 28,
   "id": "cdb72ffb",
   "metadata": {},
   "outputs": [
    {
     "data": {
      "text/plain": [
       "[0, 1]"
      ]
     },
     "execution_count": 28,
     "metadata": {},
     "output_type": "execute_result"
    }
   ],
   "source": [
    "a[0:2]"
   ]
  },
  {
   "cell_type": "code",
   "execution_count": 29,
   "id": "469c3b44",
   "metadata": {},
   "outputs": [
    {
     "data": {
      "text/plain": [
       "[0, 1, 2, 3, 4]"
      ]
     },
     "execution_count": 29,
     "metadata": {},
     "output_type": "execute_result"
    }
   ],
   "source": [
    "a[0:5]"
   ]
  },
  {
   "cell_type": "code",
   "execution_count": 30,
   "id": "90b06113",
   "metadata": {},
   "outputs": [
    {
     "data": {
      "text/plain": [
       "[3, 4]"
      ]
     },
     "execution_count": 30,
     "metadata": {},
     "output_type": "execute_result"
    }
   ],
   "source": [
    "a[3:-2]"
   ]
  },
  {
   "cell_type": "code",
   "execution_count": 31,
   "id": "715682e0",
   "metadata": {},
   "outputs": [
    {
     "data": {
      "text/plain": [
       "[0, 1, 2, 3, 4]"
      ]
     },
     "execution_count": 31,
     "metadata": {},
     "output_type": "execute_result"
    }
   ],
   "source": [
    "a[:5]"
   ]
  },
  {
   "cell_type": "code",
   "execution_count": 32,
   "id": "0841958f",
   "metadata": {},
   "outputs": [
    {
     "data": {
      "text/plain": [
       "[3, 4, 5, 6]"
      ]
     },
     "execution_count": 32,
     "metadata": {},
     "output_type": "execute_result"
    }
   ],
   "source": [
    "a[3:]"
   ]
  },
  {
   "cell_type": "code",
   "execution_count": 33,
   "id": "734a8391",
   "metadata": {},
   "outputs": [
    {
     "data": {
      "text/plain": [
       "[0, 2, 4, 6]"
      ]
     },
     "execution_count": 33,
     "metadata": {},
     "output_type": "execute_result"
    }
   ],
   "source": [
    "a[::2]"
   ]
  },
  {
   "cell_type": "code",
   "execution_count": 35,
   "id": "0222e6fe",
   "metadata": {},
   "outputs": [
    {
     "data": {
      "text/plain": [
       "[1, 3]"
      ]
     },
     "execution_count": 35,
     "metadata": {},
     "output_type": "execute_result"
    }
   ],
   "source": [
    "a[1:5:2] #slice 1-5 lompat 2"
   ]
  },
  {
   "cell_type": "code",
   "execution_count": 37,
   "id": "c0194a98",
   "metadata": {},
   "outputs": [
    {
     "data": {
      "text/plain": [
       "[6, 5, 4, 3, 2, 1, 0]"
      ]
     },
     "execution_count": 37,
     "metadata": {},
     "output_type": "execute_result"
    }
   ],
   "source": [
    "a[::-1]"
   ]
  },
  {
   "cell_type": "markdown",
   "id": "8baaae94",
   "metadata": {},
   "source": [
    "# Join dan Split"
   ]
  },
  {
   "cell_type": "code",
   "execution_count": 38,
   "id": "5eddc9e6",
   "metadata": {},
   "outputs": [],
   "source": [
    "a = [\"cat\",\"dog\", \"fish\"]"
   ]
  },
  {
   "cell_type": "code",
   "execution_count": 39,
   "id": "94a538e9",
   "metadata": {},
   "outputs": [
    {
     "data": {
      "text/plain": [
       "'cat dog fish'"
      ]
     },
     "execution_count": 39,
     "metadata": {},
     "output_type": "execute_result"
    }
   ],
   "source": [
    "\" \".join(a)"
   ]
  },
  {
   "cell_type": "code",
   "execution_count": 40,
   "id": "f6ea5469",
   "metadata": {},
   "outputs": [
    {
     "data": {
      "text/plain": [
       "'cat, dog, fish'"
      ]
     },
     "execution_count": 40,
     "metadata": {},
     "output_type": "execute_result"
    }
   ],
   "source": [
    "\", \".join(a)"
   ]
  },
  {
   "cell_type": "code",
   "execution_count": 41,
   "id": "df8d23f6",
   "metadata": {},
   "outputs": [],
   "source": [
    "a = 'video ini tentang intro python'"
   ]
  },
  {
   "cell_type": "code",
   "execution_count": 42,
   "id": "f98d8782",
   "metadata": {},
   "outputs": [
    {
     "data": {
      "text/plain": [
       "['video', 'ini', 'tentang', 'intro', 'python']"
      ]
     },
     "execution_count": 42,
     "metadata": {},
     "output_type": "execute_result"
    }
   ],
   "source": [
    "a.split()"
   ]
  },
  {
   "cell_type": "code",
   "execution_count": 43,
   "id": "bd94cc1d",
   "metadata": {},
   "outputs": [],
   "source": [
    "a = 'hari ini, sarimin pergi ke pasar'"
   ]
  },
  {
   "cell_type": "code",
   "execution_count": 44,
   "id": "f1f0a782",
   "metadata": {},
   "outputs": [
    {
     "data": {
      "text/plain": [
       "['hari ini', 'sarimin pergi ke pasar']"
      ]
     },
     "execution_count": 44,
     "metadata": {},
     "output_type": "execute_result"
    }
   ],
   "source": [
    "a.split(\", \")"
   ]
  },
  {
   "cell_type": "markdown",
   "id": "8de93bef",
   "metadata": {},
   "source": [
    "# Dictionary"
   ]
  },
  {
   "cell_type": "markdown",
   "id": "5e90bc6f",
   "metadata": {},
   "source": [
    "'key' : 'value'"
   ]
  },
  {
   "cell_type": "code",
   "execution_count": 54,
   "id": "2ab874b0",
   "metadata": {},
   "outputs": [],
   "source": [
    "a = {\n",
    "    'cat': 'kucing', \n",
    "    'dog': 'anjing', \n",
    "    'fish':'ikan'\n",
    "}"
   ]
  },
  {
   "cell_type": "code",
   "execution_count": 55,
   "id": "3008cf24",
   "metadata": {},
   "outputs": [
    {
     "data": {
      "text/plain": [
       "'kucing'"
      ]
     },
     "execution_count": 55,
     "metadata": {},
     "output_type": "execute_result"
    }
   ],
   "source": [
    "a['cat']"
   ]
  },
  {
   "cell_type": "code",
   "execution_count": 56,
   "id": "c7e80770",
   "metadata": {},
   "outputs": [],
   "source": [
    "a['bird'] = 'burung'"
   ]
  },
  {
   "cell_type": "code",
   "execution_count": 57,
   "id": "dc4cfce4",
   "metadata": {},
   "outputs": [
    {
     "data": {
      "text/plain": [
       "{'cat': 'kucing', 'dog': 'anjing', 'fish': 'ikan', 'bird': 'burung'}"
      ]
     },
     "execution_count": 57,
     "metadata": {},
     "output_type": "execute_result"
    }
   ],
   "source": [
    "a"
   ]
  },
  {
   "cell_type": "code",
   "execution_count": 58,
   "id": "a9784ef3",
   "metadata": {},
   "outputs": [],
   "source": [
    "a['elephant']='gajah'"
   ]
  },
  {
   "cell_type": "code",
   "execution_count": 59,
   "id": "f3b47eb0",
   "metadata": {},
   "outputs": [
    {
     "data": {
      "text/plain": [
       "{'cat': 'kucing',\n",
       " 'dog': 'anjing',\n",
       " 'fish': 'ikan',\n",
       " 'bird': 'burung',\n",
       " 'elephant': 'gajah'}"
      ]
     },
     "execution_count": 59,
     "metadata": {},
     "output_type": "execute_result"
    }
   ],
   "source": [
    "a"
   ]
  },
  {
   "cell_type": "code",
   "execution_count": 60,
   "id": "882f23d0",
   "metadata": {},
   "outputs": [
    {
     "data": {
      "text/plain": [
       "dict_keys(['cat', 'dog', 'fish', 'bird', 'elephant'])"
      ]
     },
     "execution_count": 60,
     "metadata": {},
     "output_type": "execute_result"
    }
   ],
   "source": [
    "a.keys()"
   ]
  },
  {
   "cell_type": "code",
   "execution_count": 61,
   "id": "cb8600be",
   "metadata": {},
   "outputs": [
    {
     "data": {
      "text/plain": [
       "dict_values(['kucing', 'anjing', 'ikan', 'burung', 'gajah'])"
      ]
     },
     "execution_count": 61,
     "metadata": {},
     "output_type": "execute_result"
    }
   ],
   "source": [
    "a.values()"
   ]
  },
  {
   "cell_type": "code",
   "execution_count": 62,
   "id": "094c0468",
   "metadata": {},
   "outputs": [],
   "source": [
    "nilai = {'Andi':40, 'Budi': 55, 'Caca':75, 'Daddy':100}"
   ]
  },
  {
   "cell_type": "code",
   "execution_count": 63,
   "id": "d5896b40",
   "metadata": {},
   "outputs": [
    {
     "data": {
      "text/plain": [
       "{'Andi': 40, 'Budi': 55, 'Caca': 75, 'Daddy': 100}"
      ]
     },
     "execution_count": 63,
     "metadata": {},
     "output_type": "execute_result"
    }
   ],
   "source": [
    "nilai"
   ]
  },
  {
   "cell_type": "code",
   "execution_count": 64,
   "id": "de59e27c",
   "metadata": {},
   "outputs": [],
   "source": [
    "nilai['Daddy'] = 90"
   ]
  },
  {
   "cell_type": "code",
   "execution_count": 65,
   "id": "8913f716",
   "metadata": {},
   "outputs": [
    {
     "data": {
      "text/plain": [
       "{'Andi': 40, 'Budi': 55, 'Caca': 75, 'Daddy': 90}"
      ]
     },
     "execution_count": 65,
     "metadata": {},
     "output_type": "execute_result"
    }
   ],
   "source": [
    "nilai"
   ]
  },
  {
   "cell_type": "markdown",
   "id": "a0da571c",
   "metadata": {},
   "source": [
    "# Functions"
   ]
  },
  {
   "cell_type": "code",
   "execution_count": 66,
   "id": "d928bba4",
   "metadata": {},
   "outputs": [],
   "source": [
    "def jumlah(a,b):\n",
    "    return a+b"
   ]
  },
  {
   "cell_type": "code",
   "execution_count": 67,
   "id": "1fb7c1ec",
   "metadata": {},
   "outputs": [
    {
     "data": {
      "text/plain": [
       "7"
      ]
     },
     "execution_count": 67,
     "metadata": {},
     "output_type": "execute_result"
    }
   ],
   "source": [
    "jumlah(3,4)"
   ]
  },
  {
   "cell_type": "code",
   "execution_count": 68,
   "id": "39b23ccb",
   "metadata": {},
   "outputs": [],
   "source": [
    "def perkalian(a,b):\n",
    "    return a*b"
   ]
  },
  {
   "cell_type": "code",
   "execution_count": 70,
   "id": "738f75b3",
   "metadata": {},
   "outputs": [
    {
     "data": {
      "text/plain": [
       "56"
      ]
     },
     "execution_count": 70,
     "metadata": {},
     "output_type": "execute_result"
    }
   ],
   "source": [
    "perkalian(7,8)"
   ]
  },
  {
   "cell_type": "markdown",
   "id": "07f42daf",
   "metadata": {},
   "source": [
    "# Conditionals"
   ]
  },
  {
   "cell_type": "code",
   "execution_count": 71,
   "id": "13d0769e",
   "metadata": {},
   "outputs": [],
   "source": [
    "score = 50"
   ]
  },
  {
   "cell_type": "code",
   "execution_count": 73,
   "id": "40b2f97b",
   "metadata": {},
   "outputs": [
    {
     "name": "stdout",
     "output_type": "stream",
     "text": [
      "index: C\n"
     ]
    }
   ],
   "source": [
    "if 0<= score < 60:\n",
    "    print(\"index: C\")\n",
    "elif 60<=score < 80:\n",
    "    print(\"index: B\")\n",
    "elif 80<=score < 100:\n",
    "    print(\"index: A\")\n",
    "elif score == 100:\n",
    "    print (\"index: S\")\n",
    "else:\n",
    "    print(\"ketingiian scorenya\")"
   ]
  },
  {
   "cell_type": "code",
   "execution_count": 116,
   "id": "08c91d48",
   "metadata": {},
   "outputs": [],
   "source": [
    "def konversi_ke_index(score):\n",
    "    if 0<= score < 60:\n",
    "        return(\"index: C\")\n",
    "    elif 60<=score < 80:\n",
    "        return(\"index: B\")\n",
    "    elif 80<=score < 100:\n",
    "        return(\"index: A\")\n",
    "    elif score == 100:\n",
    "        return (\"index: S\")\n",
    "    else:\n",
    "        return(\"ngaco scorenya\")"
   ]
  },
  {
   "cell_type": "code",
   "execution_count": 117,
   "id": "b0026fd2",
   "metadata": {},
   "outputs": [
    {
     "data": {
      "text/plain": [
       "'ngaco scorenya'"
      ]
     },
     "execution_count": 117,
     "metadata": {},
     "output_type": "execute_result"
    }
   ],
   "source": [
    "konversi_ke_index(110)"
   ]
  },
  {
   "cell_type": "markdown",
   "id": "a8ab138b",
   "metadata": {},
   "source": [
    "# Iterasi (Menelusuri)"
   ]
  },
  {
   "cell_type": "code",
   "execution_count": 92,
   "id": "819eba26",
   "metadata": {},
   "outputs": [],
   "source": [
    "numbers = [1,2,3,4,5,6] #list"
   ]
  },
  {
   "cell_type": "code",
   "execution_count": 93,
   "id": "1ed664e3",
   "metadata": {},
   "outputs": [
    {
     "name": "stdout",
     "output_type": "stream",
     "text": [
      "1\n",
      "2\n",
      "3\n",
      "4\n",
      "5\n",
      "6\n"
     ]
    }
   ],
   "source": [
    "for n in numbers:\n",
    "    print(n)"
   ]
  },
  {
   "cell_type": "code",
   "execution_count": 118,
   "id": "83cce435",
   "metadata": {},
   "outputs": [
    {
     "name": "stdout",
     "output_type": "stream",
     "text": [
      "index: A\n",
      "index: C\n",
      "index: C\n",
      "ngaco scorenya\n"
     ]
    }
   ],
   "source": [
    "for score in [80,30,55,120]: #tuple\n",
    "    print(konversi_ke_index(score))"
   ]
  },
  {
   "cell_type": "code",
   "execution_count": 95,
   "id": "a31f9fa5",
   "metadata": {},
   "outputs": [
    {
     "name": "stdout",
     "output_type": "stream",
     "text": [
      "1\n",
      "4\n",
      "9\n",
      "16\n",
      "25\n",
      "36\n"
     ]
    }
   ],
   "source": [
    "for number in numbers:\n",
    "    print(number**2)"
   ]
  },
  {
   "cell_type": "code",
   "execution_count": 96,
   "id": "420de5ad",
   "metadata": {},
   "outputs": [],
   "source": [
    "animals = [\"cat\",\"fish\",\"elephant\",\"bird\"]"
   ]
  },
  {
   "cell_type": "code",
   "execution_count": 97,
   "id": "2b6e41c1",
   "metadata": {},
   "outputs": [
    {
     "name": "stdout",
     "output_type": "stream",
     "text": [
      "CAT\n",
      "FISH\n",
      "ELEPHANT\n",
      "BIRD\n"
     ]
    }
   ],
   "source": [
    "for animal in animals:\n",
    "    print(animal.upper())"
   ]
  },
  {
   "cell_type": "code",
   "execution_count": 99,
   "id": "19e3720a",
   "metadata": {},
   "outputs": [
    {
     "name": "stdout",
     "output_type": "stream",
     "text": [
      "cat\n",
      "fish\n",
      "elephant\n",
      "bird\n"
     ]
    }
   ],
   "source": [
    "for animal in animals:\n",
    "    print(animal.lower())"
   ]
  },
  {
   "cell_type": "code",
   "execution_count": 100,
   "id": "aa04c9fa",
   "metadata": {},
   "outputs": [
    {
     "name": "stdout",
     "output_type": "stream",
     "text": [
      "2\n",
      "4\n"
     ]
    }
   ],
   "source": [
    "for i in range(2,5,2):\n",
    "    print(i)"
   ]
  },
  {
   "cell_type": "code",
   "execution_count": 105,
   "id": "dd6e3522",
   "metadata": {},
   "outputs": [
    {
     "name": "stdout",
     "output_type": "stream",
     "text": [
      "Bahasa indonesia dari cat adalah kucing\n",
      "Bahasa indonesia dari dog adalah anjing\n",
      "Bahasa indonesia dari fish adalah ikan\n",
      "Bahasa indonesia dari bird adalah burung\n",
      "Bahasa indonesia dari elephant adalah gajah\n"
     ]
    }
   ],
   "source": [
    "#iterasi dictionary\n",
    "for key in a.keys():\n",
    "    print(f\"Bahasa indonesia dari {key} adalah {a[key]}\")"
   ]
  },
  {
   "cell_type": "code",
   "execution_count": 106,
   "id": "2e94d60f",
   "metadata": {},
   "outputs": [],
   "source": [
    "a = []\n",
    "for i in range(5):\n",
    "    a.append(i**2)"
   ]
  },
  {
   "cell_type": "code",
   "execution_count": 107,
   "id": "8c517d71",
   "metadata": {},
   "outputs": [
    {
     "data": {
      "text/plain": [
       "[0, 1, 4, 9, 16]"
      ]
     },
     "execution_count": 107,
     "metadata": {},
     "output_type": "execute_result"
    }
   ],
   "source": [
    "a"
   ]
  },
  {
   "cell_type": "markdown",
   "id": "7c139991",
   "metadata": {},
   "source": [
    "# Python Comprehension"
   ]
  },
  {
   "cell_type": "code",
   "execution_count": 108,
   "id": "8c521905",
   "metadata": {},
   "outputs": [],
   "source": [
    "a = [i**2 for i in range(5)]"
   ]
  },
  {
   "cell_type": "code",
   "execution_count": 109,
   "id": "bd120883",
   "metadata": {},
   "outputs": [
    {
     "data": {
      "text/plain": [
       "[0, 1, 4, 9, 16]"
      ]
     },
     "execution_count": 109,
     "metadata": {},
     "output_type": "execute_result"
    }
   ],
   "source": [
    "a"
   ]
  },
  {
   "cell_type": "code",
   "execution_count": 111,
   "id": "8841a58b",
   "metadata": {},
   "outputs": [],
   "source": [
    "a = {i: i**2 for i in range(5)}"
   ]
  },
  {
   "cell_type": "code",
   "execution_count": 112,
   "id": "ebc53e2e",
   "metadata": {},
   "outputs": [
    {
     "data": {
      "text/plain": [
       "{0: 0, 1: 1, 2: 4, 3: 9, 4: 16}"
      ]
     },
     "execution_count": 112,
     "metadata": {},
     "output_type": "execute_result"
    }
   ],
   "source": [
    "a"
   ]
  },
  {
   "cell_type": "code",
   "execution_count": 113,
   "id": "1afddd06",
   "metadata": {},
   "outputs": [
    {
     "data": {
      "text/plain": [
       "{1, 2, 3, 4, 5, 6}"
      ]
     },
     "execution_count": 113,
     "metadata": {},
     "output_type": "execute_result"
    }
   ],
   "source": [
    "{1,2,3,4,2,2,3,5,6} #set dan tidak mengandung sesuatu yang berulang"
   ]
  },
  {
   "cell_type": "code",
   "execution_count": 119,
   "id": "ae1973f4",
   "metadata": {},
   "outputs": [],
   "source": [
    "nilai = [konversi_ke_index(score) for score in [20,40,80,30,10,-5,105]]"
   ]
  },
  {
   "cell_type": "code",
   "execution_count": 120,
   "id": "18e72ef6",
   "metadata": {},
   "outputs": [
    {
     "data": {
      "text/plain": [
       "['index: C',\n",
       " 'index: C',\n",
       " 'index: A',\n",
       " 'index: C',\n",
       " 'index: C',\n",
       " 'ngaco scorenya',\n",
       " 'ngaco scorenya']"
      ]
     },
     "execution_count": 120,
     "metadata": {},
     "output_type": "execute_result"
    }
   ],
   "source": [
    "nilai"
   ]
  },
  {
   "cell_type": "markdown",
   "id": "95b32a62",
   "metadata": {},
   "source": [
    "# Excercise : Kucing berhitung"
   ]
  },
  {
   "cell_type": "code",
   "execution_count": 3,
   "id": "c7db9063",
   "metadata": {},
   "outputs": [
    {
     "name": "stdout",
     "output_type": "stream",
     "text": [
      "1\n",
      "2\n",
      "3\n",
      "4\n",
      "5\n",
      "6\n",
      "7\n",
      "8\n",
      "9\n",
      "10\n",
      "11\n",
      "12\n",
      "13\n",
      "14\n",
      "15\n",
      "16\n",
      "17\n",
      "18\n",
      "18\n",
      "18\n"
     ]
    }
   ],
   "source": [
    "for i in range(1,21):\n",
    "    if i > 18:\n",
    "        print(18)\n",
    "    else:\n",
    "        print(i)"
   ]
  },
  {
   "cell_type": "code",
   "execution_count": 4,
   "id": "1dedd02c",
   "metadata": {},
   "outputs": [
    {
     "name": "stdout",
     "output_type": "stream",
     "text": [
      "1\n",
      "2\n",
      "3\n",
      "4\n",
      "5\n",
      "6\n",
      "7\n",
      "8\n",
      "9\n",
      "10\n",
      "11\n",
      "12\n",
      "13\n",
      "14\n",
      "15\n",
      "16\n",
      "17\n",
      "18\n",
      "18\n",
      "18\n"
     ]
    }
   ],
   "source": [
    "for i in range(1,21):\n",
    "    print(min(i,18))"
   ]
  },
  {
   "cell_type": "markdown",
   "id": "9b5db15d",
   "metadata": {},
   "source": [
    "# Daftar Pangkat"
   ]
  },
  {
   "cell_type": "code",
   "execution_count": 6,
   "id": "617bb635",
   "metadata": {},
   "outputs": [],
   "source": [
    "a = []\n",
    "for i in range(0,5):\n",
    "    a.append(i**2)"
   ]
  },
  {
   "cell_type": "code",
   "execution_count": 7,
   "id": "89508ee0",
   "metadata": {},
   "outputs": [
    {
     "data": {
      "text/plain": [
       "[0, 1, 4, 9, 16]"
      ]
     },
     "execution_count": 7,
     "metadata": {},
     "output_type": "execute_result"
    }
   ],
   "source": [
    "a"
   ]
  },
  {
   "cell_type": "markdown",
   "id": "b8219146",
   "metadata": {},
   "source": [
    "# List comprehension"
   ]
  },
  {
   "cell_type": "code",
   "execution_count": 8,
   "id": "1065188a",
   "metadata": {},
   "outputs": [],
   "source": [
    "a = [i**2 for i in range(5)]"
   ]
  },
  {
   "cell_type": "code",
   "execution_count": 9,
   "id": "457d3a5e",
   "metadata": {},
   "outputs": [
    {
     "data": {
      "text/plain": [
       "[0, 1, 4, 9, 16]"
      ]
     },
     "execution_count": 9,
     "metadata": {},
     "output_type": "execute_result"
    }
   ],
   "source": [
    "a"
   ]
  },
  {
   "cell_type": "code",
   "execution_count": null,
   "id": "79d46359",
   "metadata": {},
   "outputs": [],
   "source": []
  }
 ],
 "metadata": {
  "kernelspec": {
   "display_name": "Python 3 (ipykernel)",
   "language": "python",
   "name": "python3"
  },
  "language_info": {
   "codemirror_mode": {
    "name": "ipython",
    "version": 3
   },
   "file_extension": ".py",
   "mimetype": "text/x-python",
   "name": "python",
   "nbconvert_exporter": "python",
   "pygments_lexer": "ipython3",
   "version": "3.9.16"
  }
 },
 "nbformat": 4,
 "nbformat_minor": 5
}
